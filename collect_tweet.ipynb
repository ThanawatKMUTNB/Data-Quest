{
 "cells": [
  {
   "cell_type": "code",
   "execution_count": 1,
   "metadata": {},
   "outputs": [],
   "source": [
    "import tweepy as tw\n",
    "import pandas as pd\n",
    "import re\n",
    "import glob\n",
    "import os\n",
    "import schedule\n",
    "import time\n",
    "from datetime import datetime\n",
    "\n",
    "%run ./fair_keys.ipynb\n",
    "\n",
    "auth = tw.OAuthHandler(consumer_key, consumer_secret)\n",
    "auth.set_access_token(access_token, access_token_secret)\n",
    "api = tw.API(auth, wait_on_rate_limit=True)"
   ]
  },
  {
   "cell_type": "code",
   "execution_count": 2,
   "metadata": {},
   "outputs": [],
   "source": [
    "#keys = ['Spy x Family','Genshin Impact']\n",
    "keys = ['bl anime','anime comedy','anime romance','school life','anime','animation','shounen','pixar',\n",
    "        'harem','fantasy anime','sport anime','from manga','from novel','animation studio',\n",
    "        'shounen ai','seinen','shoujo','slice of life anime'] #edit school life"
   ]
  },
  {
   "cell_type": "code",
   "execution_count": 3,
   "metadata": {},
   "outputs": [],
   "source": [
    "def savedata():\n",
    "    def get_related_tweets(key_word):\n",
    "        tweet_keyword = []\n",
    "        twitter_users = []\n",
    "        #twitter_users_id = []\n",
    "        tweet_time = []\n",
    "        tweet_string = [] \n",
    "        tweet_countRT = []\n",
    "        tweet_fav = []\n",
    "        for tweet in tw.Cursor(api.search_tweets,q=key_word,tweet_mode=\"extended\",include_entities=True).items(40):\n",
    "                if (not tweet.retweeted) and ('RT @' not in tweet.full_text):\n",
    "                    if tweet.lang == \"en\":\n",
    "                        twitter_users.append(tweet.user.screen_name)\n",
    "                        #twitter_users_id.append(tweet.user.id)\n",
    "                        tweet_time.append(tweet.created_at)\n",
    "                        tweet_string.append(tweet.full_text)\n",
    "                        tweet_countRT.append(tweet.retweet_count)\n",
    "                        tweet_fav.append(tweet.favorite_count)\n",
    "                        tweet_keyword.append(key_word)\n",
    "        df = pd.DataFrame({'Keyword':tweet_keyword,'User':twitter_users,'Retweet':tweet_countRT,'Likes':tweet_fav, 'Tweet': tweet_string, 'Time': tweet_time})\n",
    "        #df.to_csv(f\"{key_word}.csv\")\n",
    "        return df\n",
    "\n",
    "    now = datetime.now()\n",
    "    current_time = now.strftime(\"%H:%M:%S\")\n",
    "    today = datetime.today()\n",
    "    filename = str(\"tweet_data_\"+str(today.day)+str(today.month)+str(today.year)+\".csv\")\n",
    "\n",
    "    if filename not in glob.glob(\"*.csv\"):\n",
    "        df = pd.DataFrame(columns=['Keyword','User','Retweet','Likes','Tweet','Time'])\n",
    "    else:\n",
    "        df = pd.read_csv(filename)\n",
    "        os.remove(filename)\n",
    "\n",
    "    for keyword in keys:\n",
    "        df = pd.concat([df,get_related_tweets(keyword)])\n",
    "\n",
    "    #df['Time'] = pd.to_datetime(df['Time'])\n",
    "    #df['Likes'] = df['Likes'].astype(str).astype(int)\n",
    "    #df['Retweet'] = df['Retweet'].astype(str).astype(int)\n",
    "    df.drop_duplicates(keep='last',inplace=True)\n",
    "    df.sort_values(by=['Keyword'],inplace=True)\n",
    "    df.to_csv(filename,encoding='utf-8',index=False)\n",
    "    print('save complete',current_time)"
   ]
  },
  {
   "cell_type": "code",
   "execution_count": 4,
   "metadata": {},
   "outputs": [
    {
     "name": "stdout",
     "output_type": "stream",
     "text": [
      "save complete 20:54:45\n",
      "save complete 21:10:11\n",
      "save complete 21:25:37\n",
      "save complete 21:41:04\n",
      "save complete 21:56:31\n",
      "save complete 22:11:57\n",
      "save complete 22:27:24\n",
      "save complete 22:42:49\n",
      "save complete 22:58:13\n",
      "save complete 23:13:38\n",
      "save complete 23:29:04\n",
      "save complete 23:44:29\n",
      "save complete 23:59:54\n",
      "save complete 00:15:20\n"
     ]
    },
    {
     "ename": "KeyboardInterrupt",
     "evalue": "",
     "output_type": "error",
     "traceback": [
      "\u001b[1;31m---------------------------------------------------------------------------\u001b[0m",
      "\u001b[1;31mKeyboardInterrupt\u001b[0m                         Traceback (most recent call last)",
      "\u001b[1;32m~\\AppData\\Local\\Temp/ipykernel_14260/31574550.py\u001b[0m in \u001b[0;36m<module>\u001b[1;34m\u001b[0m\n\u001b[0;32m      3\u001b[0m \u001b[1;32mwhile\u001b[0m \u001b[1;32mTrue\u001b[0m\u001b[1;33m:\u001b[0m\u001b[1;33m\u001b[0m\u001b[1;33m\u001b[0m\u001b[0m\n\u001b[0;32m      4\u001b[0m     \u001b[0mschedule\u001b[0m\u001b[1;33m.\u001b[0m\u001b[0mrun_pending\u001b[0m\u001b[1;33m(\u001b[0m\u001b[1;33m)\u001b[0m\u001b[1;33m\u001b[0m\u001b[1;33m\u001b[0m\u001b[0m\n\u001b[1;32m----> 5\u001b[1;33m     \u001b[0mtime\u001b[0m\u001b[1;33m.\u001b[0m\u001b[0msleep\u001b[0m\u001b[1;33m(\u001b[0m\u001b[1;36m1\u001b[0m\u001b[1;33m)\u001b[0m\u001b[1;33m\u001b[0m\u001b[1;33m\u001b[0m\u001b[0m\n\u001b[0m",
      "\u001b[1;31mKeyboardInterrupt\u001b[0m: "
     ]
    }
   ],
   "source": [
    "savedata()\n",
    "schedule.every(15).minutes.do(savedata)\n",
    "while True:\n",
    "    schedule.run_pending()\n",
    "    time.sleep(1)"
   ]
  },
  {
   "cell_type": "code",
   "execution_count": null,
   "metadata": {},
   "outputs": [],
   "source": [
    "#df.loc[df['Keyword']=='from manga']"
   ]
  },
  {
   "cell_type": "code",
   "execution_count": null,
   "metadata": {},
   "outputs": [],
   "source": [
    "#df.info()"
   ]
  },
  {
   "cell_type": "code",
   "execution_count": null,
   "metadata": {},
   "outputs": [],
   "source": [
    "#df"
   ]
  }
 ],
 "metadata": {
  "interpreter": {
   "hash": "2647ea34e536f865ab67ff9ddee7fd78773d956cec0cab53c79b32cd10da5d83"
  },
  "kernelspec": {
   "display_name": "Python 3.9.7 64-bit",
   "language": "python",
   "name": "python3"
  },
  "language_info": {
   "codemirror_mode": {
    "name": "ipython",
    "version": 3
   },
   "file_extension": ".py",
   "mimetype": "text/x-python",
   "name": "python",
   "nbconvert_exporter": "python",
   "pygments_lexer": "ipython3",
   "version": "3.9.7"
  },
  "orig_nbformat": 4
 },
 "nbformat": 4,
 "nbformat_minor": 2
}
