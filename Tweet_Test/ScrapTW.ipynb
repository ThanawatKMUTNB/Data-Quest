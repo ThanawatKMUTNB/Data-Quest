{
 "cells": [
  {
   "cell_type": "code",
   "execution_count": 12,
   "metadata": {},
   "outputs": [],
   "source": [
    "import os\n",
    "import tweepy as tw\n",
    "import pandas as pd\n",
    "import re\n",
    "from datetime import datetime\n",
    "\n",
    "today = datetime.today()\n",
    "filename = str(\"tweet_data_\"+str(today.day)+str(today.month)+str(today.year)+\".csv\")\n",
    "df = pd.read_csv(filename)"
   ]
  },
  {
   "cell_type": "code",
   "execution_count": 14,
   "metadata": {},
   "outputs": [
    {
     "name": "stdout",
     "output_type": "stream",
     "text": [
      "['school life', 'anime', 'anime comedy', 'shounen ai', 'from manga', 'anime romance', 'animation studio', 'bl anime', 'fantasy anime', 'sport anime', 'from novel', 'seinen', 'slice of life anime', 'harem', 'animation', 'pixar', 'shounen', 'shoujo']\n"
     ]
    }
   ],
   "source": [
    "keys = df['Keyword'].tolist()\n",
    "keys = list(set(keys))\n",
    "print(keys)"
   ]
  },
  {
   "cell_type": "code",
   "execution_count": 20,
   "metadata": {},
   "outputs": [
    {
     "name": "stdout",
     "output_type": "stream",
     "text": [
      "This keyword not in Database. Do you want to search?\n",
      "no\n"
     ]
    }
   ],
   "source": [
    "keyword = str(input('Enter Keyword: '))\n",
    "if keyword not in keys:\n",
    "    print('This keyword not in Database. Do you want to search?')\n",
    "    Ans = str(input())\n",
    "    print(Ans)\n",
    "else:\n",
    "    print(df.loc[df['Keyword']==keyword,['Tweet']])"
   ]
  }
 ],
 "metadata": {
  "interpreter": {
   "hash": "2647ea34e536f865ab67ff9ddee7fd78773d956cec0cab53c79b32cd10da5d83"
  },
  "kernelspec": {
   "display_name": "Python 3.9.7 64-bit",
   "language": "python",
   "name": "python3"
  },
  "language_info": {
   "codemirror_mode": {
    "name": "ipython",
    "version": 3
   },
   "file_extension": ".py",
   "mimetype": "text/x-python",
   "name": "python",
   "nbconvert_exporter": "python",
   "pygments_lexer": "ipython3",
   "version": "3.9.7"
  },
  "orig_nbformat": 4
 },
 "nbformat": 4,
 "nbformat_minor": 2
}
